{
 "cells": [
  {
   "cell_type": "markdown",
   "metadata": {},
   "source": [
    "## Homework 7"
   ]
  },
  {
   "cell_type": "markdown",
   "metadata": {},
   "source": [
    "Using arcpy and/or arcgis packages from ESRI ArcGIS, create a script tool forGeoprocessing or a Notebook in ArcGIS Pro. Alternatively, you can create a generic JupyterNotebook using these two packages from ESRI.\n",
    "\n",
    "From now on, you are expected to plan on your final project. Try to make the assignmentspart of your final project whenever it applies. At least, you should use the assignments toverify the methods or technologies for your final project. If you haven't had a direction foryour project yet, you can recycle what you did in other GIS courses and see if you canautomate some of the manual works and make a nice Geoprocessing tool or PythonNotebook."
   ]
  },
  {
   "cell_type": "markdown",
   "metadata": {},
   "source": [
    "### 1. Looking at the data"
   ]
  },
  {
   "cell_type": "code",
   "execution_count": 45,
   "metadata": {},
   "outputs": [],
   "source": [
    "import arcpy"
   ]
  },
  {
   "cell_type": "code",
   "execution_count": 22,
   "metadata": {},
   "outputs": [],
   "source": [
    "#environment workspace\n",
    "arcpy.env.workspace = r'C:\\Users\\amyca\\OneDrive\\Documents\\GTECH732_AdvGIS\\Final Project\\FINALProject_GIS_DATA\\COB_Flood_Data\\COB_10PCT_Annual_Flood'"
   ]
  },
  {
   "cell_type": "code",
   "execution_count": 23,
   "metadata": {},
   "outputs": [],
   "source": [
    "feature_list = arcpy.ListFeatureClasses()"
   ]
  },
  {
   "cell_type": "code",
   "execution_count": 24,
   "metadata": {},
   "outputs": [
    {
     "name": "stdout",
     "output_type": "stream",
     "text": [
      "['_21inch_Sea_Level_Rise__10pct_Annual_Flood.shp', '_36inch_Sea_Level_Rise_10pct_Annual_Flood.shp', '_9inch_Sea_Level_Rise_10pct_Annual_Flood.shp']\n"
     ]
    }
   ],
   "source": [
    "print(feature_list)"
   ]
  },
  {
   "cell_type": "markdown",
   "metadata": {},
   "source": [
    "### 2. Select by Location"
   ]
  },
  {
   "cell_type": "markdown",
   "metadata": {},
   "source": [
    "#### Turning Sea Level Rise and Focal Resources shapefiles into feature layers"
   ]
  },
  {
   "cell_type": "code",
   "execution_count": 75,
   "metadata": {},
   "outputs": [],
   "source": [
    "#focal resources\n",
    "cultural_points = r'C:\\Users\\amyca\\OneDrive\\Documents\\GTECH732_AdvGIS\\Final Project\\FINALProject_GIS_DATA\\Focal Resource Shapefiles\\Cultural_FocalResources_9Islands.shp'\n",
    "infrastructure_points = r'C:\\Users\\amyca\\OneDrive\\Documents\\GTECH732_AdvGIS\\Final Project\\FINALProject_GIS_DATA\\Focal Resource Shapefiles\\Infrastructure_FocalResources_9Islands.shp'\n",
    "\n",
    "#SLR (10pct)\n",
    "nine_in_SLR_ten_pct = r'C:\\Users\\amyca\\OneDrive\\Documents\\GTECH732_AdvGIS\\Final Project\\FINALProject_GIS_DATA\\COB_Flood_Data\\COB_10PCT_Annual_Flood\\_9inch_Sea_Level_Rise_10pct_Annual_Flood.shp'\n",
    "twentyone_in_SLR_ten_pct = r'C:\\Users\\amyca\\OneDrive\\Documents\\GTECH732_AdvGIS\\Final Project\\FINALProject_GIS_DATA\\COB_Flood_Data\\COB_10PCT_Annual_Flood\\_21inch_Sea_Level_Rise__10pct_Annual_Flood.shp'\n",
    "thirtysix_in_SLR_ten_pct =r'C:\\Users\\amyca\\OneDrive\\Documents\\GTECH732_AdvGIS\\Final Project\\FINALProject_GIS_DATA\\COB_Flood_Data\\COB_10PCT_Annual_Flood\\_36inch_Sea_Level_Rise_10pct_Annual_Flood.shp'\n",
    "\n",
    "#Folder for future outputs\n",
    "outpath = r'C:\\Users\\amyca\\OneDrive\\Documents\\GTECH732_AdvGIS\\Final Project\\FINALProject_GIS_DATA\\FocalResources_SLR_WITHIN'"
   ]
  },
  {
   "cell_type": "markdown",
   "metadata": {},
   "source": [
    "#### Selecting cultural and infrastructure points within 9in (10pct) SLR layer\n"
   ]
  },
  {
   "cell_type": "code",
   "execution_count": 76,
   "metadata": {},
   "outputs": [
    {
     "data": {
      "text/html": [
       "<div class='gpresult'><h2>Messages</h2><div id='messages' data-messages='[\"Start Time: Wednesday, March 22, 2023 8:28:21 PM\",\"Succeeded at Wednesday, March 22, 2023 8:28:21 PM (Elapsed Time: 0.02 seconds)\"]' data-show='true'><div id = 'default' /></div></div>"
      ],
      "text/plain": [
       "<Result 'infrastructure_layer'>"
      ]
     },
     "execution_count": 76,
     "metadata": {},
     "output_type": "execute_result"
    }
   ],
   "source": [
    "#Creating feature layers from shapefile\n",
    "##focal resources\n",
    "arcpy.MakeFeatureLayer_management(cultural_points, 'cultural_layer')\n",
    "arcpy.MakeFeatureLayer_management(infrastructure_points, 'infrastructure_layer')"
   ]
  },
  {
   "cell_type": "code",
   "execution_count": 77,
   "metadata": {},
   "outputs": [
    {
     "data": {
      "text/html": [
       "<div class='gpresult'><h2>Messages</h2><div id='messages' data-messages='[\"Start Time: Wednesday, March 22, 2023 8:28:26 PM\",\"Succeeded at Wednesday, March 22, 2023 8:28:26 PM (Elapsed Time: 0.26 seconds)\"]' data-show='true'><div id = 'default' /></div></div>"
      ],
      "text/plain": [
       "<Result 'C:\\\\Users\\\\amyca\\\\OneDrive\\\\Documents\\\\GTECH732_AdvGIS\\\\Final Project\\\\FINALProject_GIS_DATA\\\\FocalResources_SLR_WITHIN\\\\InfrastructurePoints_within_9in_10pct.shp'>"
      ]
     },
     "execution_count": 77,
     "metadata": {},
     "output_type": "execute_result"
    }
   ],
   "source": [
    "##SLR\n",
    "arcpy.MakeFeatureLayer_management(nine_in_SLR_ten_pct, '9in_SLR_10pct_layer')\n",
    "\n",
    "#Selecting points within a layers (SLR)\n",
    "arcpy.management.SelectLayerByLocation('cultural_layer', 'WITHIN', '9in_SLR_10pct_layer')\n",
    "arcpy.management.SelectLayerByLocation('infrastructure_layer', 'WITHIN', '9in_SLR_10pct_layer')\n",
    "\n",
    "#Creating a feature class based on the parameters\n",
    "arcpy.FeatureClassToFeatureClass_conversion('cultural_layer', outpath, 'CulturalPoints_within_9in_10pct')\n",
    "arcpy.FeatureClassToFeatureClass_conversion('infrastructure_layer', outpath, 'InfrastructurePoints_within_9in_10pct')"
   ]
  },
  {
   "cell_type": "markdown",
   "metadata": {},
   "source": [
    "#### Selecting cultural and infrastructure points within 21in (10pct) SLR layer"
   ]
  },
  {
   "cell_type": "code",
   "execution_count": 78,
   "metadata": {},
   "outputs": [
    {
     "data": {
      "text/html": [
       "<div class='gpresult'><h2>Messages</h2><div id='messages' data-messages='[\"Start Time: Wednesday, March 22, 2023 8:28:34 PM\",\"Succeeded at Wednesday, March 22, 2023 8:28:34 PM (Elapsed Time: 0.26 seconds)\"]' data-show='true'><div id = 'default' /></div></div>"
      ],
      "text/plain": [
       "<Result 'C:\\\\Users\\\\amyca\\\\OneDrive\\\\Documents\\\\GTECH732_AdvGIS\\\\Final Project\\\\FINALProject_GIS_DATA\\\\FocalResources_SLR_WITHIN\\\\InfrastructurePoints_within_21in_10pct.shp'>"
      ]
     },
     "execution_count": 78,
     "metadata": {},
     "output_type": "execute_result"
    }
   ],
   "source": [
    "##SLR\n",
    "arcpy.MakeFeatureLayer_management(twentyone_in_SLR_ten_pct, '21in_SLR_10pct_layer')\n",
    "\n",
    "#Selecting points within a layers (SLR)\n",
    "arcpy.management.SelectLayerByLocation('cultural_layer', 'WITHIN', '21in_SLR_10pct_layer')\n",
    "arcpy.management.SelectLayerByLocation('infrastructure_layer', 'WITHIN', '21in_SLR_10pct_layer')\n",
    "\n",
    "#Creating a feature class based on the parameters\n",
    "arcpy.FeatureClassToFeatureClass_conversion('cultural_layer', outpath, 'CulturalPoints_within_21in_10pct')\n",
    "arcpy.FeatureClassToFeatureClass_conversion('infrastructure_layer', outpath, 'InfrastructurePoints_within_21in_10pct')"
   ]
  },
  {
   "cell_type": "markdown",
   "metadata": {},
   "source": [
    "#### Selecting cultural and infrastructure points within 36in (10pct) SLR layer"
   ]
  },
  {
   "cell_type": "code",
   "execution_count": 79,
   "metadata": {},
   "outputs": [
    {
     "data": {
      "text/html": [
       "<div class='gpresult'><h2>Messages</h2><div id='messages' data-messages='[\"Start Time: Wednesday, March 22, 2023 8:28:41 PM\",\"Succeeded at Wednesday, March 22, 2023 8:28:42 PM (Elapsed Time: 0.25 seconds)\"]' data-show='true'><div id = 'default' /></div></div>"
      ],
      "text/plain": [
       "<Result 'C:\\\\Users\\\\amyca\\\\OneDrive\\\\Documents\\\\GTECH732_AdvGIS\\\\Final Project\\\\FINALProject_GIS_DATA\\\\FocalResources_SLR_WITHIN\\\\InfrastructurePoints_within_36in_10pct.shp'>"
      ]
     },
     "execution_count": 79,
     "metadata": {},
     "output_type": "execute_result"
    }
   ],
   "source": [
    "##SLR\n",
    "arcpy.MakeFeatureLayer_management(thirtysix_in_SLR_ten_pct, '36in_SLR_10pct_layer')\n",
    "\n",
    "#Selecting points within a layers (SLR)\n",
    "#arcpy.management.SelectLayerByLocation('cultural_layer', 'WITHIN', '36in_SLR_10pct_layer')\n",
    "arcpy.management.SelectLayerByLocation('cultural_layer', 'WITHIN', '36in_SLR_10pct_layer')\n",
    "arcpy.management.SelectLayerByLocation('infrastructure_layer', 'WITHIN', '36in_SLR_10pct_layer')\n",
    "\n",
    "#Creating a feature class based on the parameters\n",
    "arcpy.FeatureClassToFeatureClass_conversion('cultural_layer', outpath, 'CulturalPoints_within_36in_10pct')\n",
    "arcpy.FeatureClassToFeatureClass_conversion('infrastructure_layer', outpath, 'InfrastructurePoints_within_36in_10pct')"
   ]
  },
  {
   "cell_type": "markdown",
   "metadata": {},
   "source": [
    "### 3. Select by location using a for loop"
   ]
  },
  {
   "cell_type": "markdown",
   "metadata": {},
   "source": [
    "#### Using layer with all the resource data within 9in (10pct) SLR layer"
   ]
  },
  {
   "cell_type": "code",
   "execution_count": 85,
   "metadata": {},
   "outputs": [
    {
     "data": {
      "text/html": [
       "<div class='gpresult'><h2>Messages</h2><div id='messages' data-messages='[\"Start Time: Wednesday, March 22, 2023 8:39:43 PM\",\"Succeeded at Wednesday, March 22, 2023 8:39:43 PM (Elapsed Time: 0.04 seconds)\"]' data-show='true'><div id = 'default' /></div></div>"
      ],
      "text/plain": [
       "<Result 'all_resources_layer'>"
      ]
     },
     "execution_count": 85,
     "metadata": {},
     "output_type": "execute_result"
    }
   ],
   "source": [
    "arcpy.env.overwriteOutput = True\n",
    "\n",
    "all_resources_points = r'C:\\Users\\amyca\\OneDrive\\Documents\\GTECH732_AdvGIS\\Final Project\\FINALProject_GIS_DATA\\All_Resources\\AllResources_XYCompiledData_9Islands.shp'\n",
    "categories_of_interest = ['Infrastructure','Cultural','Vegetation','Bluff']\n",
    "\n",
    "outpath2 = r'C:\\Users\\amyca\\OneDrive\\Documents\\GTECH732_AdvGIS\\Final Project\\FINALProject_GIS_DATA\\ALLResources_SLR_Output'\n",
    "\n",
    "arcpy.MakeFeatureLayer_management(all_resources_points, 'all_resources_layer')"
   ]
  },
  {
   "cell_type": "code",
   "execution_count": 86,
   "metadata": {},
   "outputs": [],
   "source": [
    "for x in categories_of_interest:\n",
    "    arcpy.MakeFeatureLayer_management(all_resources_points, 'all_resources_layer',\"\"\" \"Category\" = '{}'\"\"\".format(x))\n",
    "    arcpy.management.SelectLayerByLocation('all_resources_layer', 'WITHIN', '9in_SLR_10pct_layer')\n",
    "    arcpy.FeatureClassToFeatureClass_conversion('all_resources_layer', outpath2, '{}_BU_ResourcePoints_within_9in_10pct'.format(x))"
   ]
  },
  {
   "cell_type": "markdown",
   "metadata": {},
   "source": [
    "#### Using layer with all the resource data within 21in (10pct) SLR layer"
   ]
  },
  {
   "cell_type": "code",
   "execution_count": 87,
   "metadata": {},
   "outputs": [],
   "source": [
    "for x in categories_of_interest:\n",
    "    arcpy.MakeFeatureLayer_management(all_resources_points, 'all_resources_layer',\"\"\" \"Category\" = '{}'\"\"\".format(x))\n",
    "    arcpy.management.SelectLayerByLocation('all_resources_layer', 'WITHIN', '21in_SLR_10pct_layer')\n",
    "    arcpy.FeatureClassToFeatureClass_conversion('all_resources_layer', outpath2, '{}_BU_ResourcePoints_within_21in_10pct'.format(x))"
   ]
  },
  {
   "cell_type": "markdown",
   "metadata": {},
   "source": [
    "#### Using layer with all the resource data within 36in (10pct) SLR layer"
   ]
  },
  {
   "cell_type": "code",
   "execution_count": 88,
   "metadata": {},
   "outputs": [],
   "source": [
    "for x in categories_of_interest:\n",
    "    arcpy.MakeFeatureLayer_management(all_resources_points, 'all_resources_layer',\"\"\" \"Category\" = '{}'\"\"\".format(x))\n",
    "    arcpy.management.SelectLayerByLocation('all_resources_layer', 'WITHIN', '36in_SLR_10pct_layer')\n",
    "    arcpy.FeatureClassToFeatureClass_conversion('all_resources_layer', outpath2, '{}_BU_ResourcePoints_within_36in_10pct'.format(x))"
   ]
  }
 ],
 "metadata": {
  "kernelspec": {
   "display_name": "ArcGISPro",
   "language": "Python",
   "name": "python3"
  },
  "language_info": {
   "file_extension": ".py",
   "name": "python",
   "version": "3"
  }
 },
 "nbformat": 4,
 "nbformat_minor": 2
}
